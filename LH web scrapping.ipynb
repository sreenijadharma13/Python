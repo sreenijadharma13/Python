{
 "cells": [
  {
   "cell_type": "code",
   "execution_count": 2,
   "id": "be9e18ed-dd00-4a29-a5d4-faeae856d8a2",
   "metadata": {},
   "outputs": [],
   "source": [
    "from selenium import webdriver\n",
    "from selenium.webdriver.common.by import By\n",
    "import csv\n",
    "import time"
   ]
  },
  {
   "cell_type": "code",
   "execution_count": 8,
   "id": "0be1578c-4745-4a81-a66f-1e43336a2ef6",
   "metadata": {},
   "outputs": [],
   "source": [
    "driver = webdriver.Chrome()"
   ]
  },
  {
   "cell_type": "code",
   "execution_count": 12,
   "id": "87ef4013-ecef-4c5e-8095-cdd24339572d",
   "metadata": {},
   "outputs": [],
   "source": [
    "driver.get('https://www.motorsportmagazine.com/database/drivers/lewis-hamilton/')"
   ]
  },
  {
   "cell_type": "code",
   "execution_count": 14,
   "id": "0d0eab6a-f405-426c-b6dc-70736057ac39",
   "metadata": {},
   "outputs": [],
   "source": [
    "html = driver.page_source"
   ]
  },
  {
   "cell_type": "code",
   "execution_count": 40,
   "id": "ea9622f9-b43d-48ae-865b-e9ffb21c4832",
   "metadata": {},
   "outputs": [],
   "source": [
    "table = driver.find_element(By.TAG_NAME, 'table')"
   ]
  },
  {
   "cell_type": "code",
   "execution_count": 20,
   "id": "f6ba0ae9-ad4d-454e-8a91-45a2a909a495",
   "metadata": {},
   "outputs": [
    {
     "name": "stdout",
     "output_type": "stream",
     "text": [
      "SEASON ENTRANT WINS POSITION POINTS RESULTS\n",
      "2024 F1 World Championship\n",
      "Mercedes AMG Petronas F1 Team\n",
      "2 - 12% win rate\n",
      "6\n",
      "166\n",
      "2023 F1 World Championship\n",
      "Mercedes AMG Petronas F1 Team\n",
      "0\n",
      "3\n",
      "234\n",
      "2022 F1 World Championship\n",
      "Mercedes AMG Petronas F1 Team\n",
      "0\n",
      "6\n",
      "240\n",
      "2021 F1 World Championship\n",
      "Mercedes AMG Petronas F1 Team\n",
      "8 - 37% win rate\n",
      "2\n",
      "387.5\n",
      "2020 F1 World Championship\n",
      "Mercedes AMG Petronas F1 Team\n",
      "11 - 69% win rate\n",
      "1\n",
      "347\n",
      "2019 F1 World Championship\n",
      "Mercedes AMG Petronas Motorsport\n",
      "11 - 53% win rate\n",
      "1\n",
      "413\n",
      "2018 F1 World Championship\n",
      "Mercedes AMG Petronas Motorsport\n",
      "11 - 53% win rate\n",
      "1\n",
      "408\n",
      "2017 F1 World Championship\n",
      "Mercedes AMG Petronas F1 Team\n",
      "9 - 45% win rate\n",
      "1\n",
      "363\n",
      "2016 F1 World Championship\n",
      "Mercedes AMG Petronas F1 Team\n",
      "10 - 48% win rate\n",
      "2\n",
      "380\n",
      "2015 F1 World Championship\n",
      "Mercedes AMG Petronas F1 Team\n",
      "10 - 53% win rate\n",
      "1\n",
      "381\n",
      "2014 F1 World Championship\n",
      "Mercedes AMG Petronas F1 Team\n",
      "11 - 58% win rate\n",
      "1\n",
      "384\n",
      "2013 F1 World Championship\n",
      "Mercedes AMG Petronas F1 Team\n",
      "1 - 6% win rate\n",
      "4\n",
      "189\n",
      "2012 F1 World Championship\n",
      "Vodafone McLaren Mercedes\n",
      "4 - 20% win rate\n",
      "4\n",
      "190\n",
      "2011 F1 World Championship\n",
      "Vodafone McLaren Mercedes\n",
      "3 - 16% win rate\n",
      "5\n",
      "227\n",
      "2010 F1 World Championship\n",
      "Vodafone McLaren Mercedes\n",
      "3 - 16% win rate\n",
      "4\n",
      "240\n",
      "2009 F1 World Championship\n",
      "Vodafone McLaren Mercedes\n",
      "2 - 12% win rate\n",
      "5\n",
      "49\n",
      "2008 F1 World Championship\n",
      "Vodafone McLaren Mercedes\n",
      "5 - 28% win rate\n",
      "1\n",
      "98\n",
      "2007 F1 World Championship\n",
      "Vodafone McLaren Mercedes\n",
      "4 - 24% win rate\n",
      "2\n",
      "109\n",
      "2006 GP2 Series\n",
      "ART Grand Prix\n",
      "5 - 24% win rate\n",
      "1\n",
      "114\n",
      "2005 F3 Euroseries\n",
      "ASM\n",
      "15 - 75% win rate\n",
      "1\n",
      "172\n",
      "2004 F3 Euroseries\n",
      "Manor Motorsport\n",
      "1 - 5% win rate\n",
      "5\n",
      "68\n"
     ]
    }
   ],
   "source": [
    "print(table)"
   ]
  },
  {
   "cell_type": "code",
   "execution_count": 22,
   "id": "7cb06725-b437-492f-86d5-41a38ccbb0a7",
   "metadata": {},
   "outputs": [],
   "source": [
    "headers = []\n",
    "for th in table.find_elements(By.TAG_NAME, 'th'):\n",
    "    headers.append(th.text.strip())"
   ]
  },
  {
   "cell_type": "code",
   "execution_count": 46,
   "id": "febc6736-fdfd-4e85-97ef-2a934bf9f1d9",
   "metadata": {},
   "outputs": [],
   "source": [
    "rows = []\n",
    "for tr in table.find_elements(By.TAG_NAME, 'tr'):\n",
    "    row = [td.text.strip() for td in tr.find_elements(By.TAG_NAME, 'td')]\n",
    "    if row:\n",
    "        rows.append(row)\n",
    "        "
   ]
  },
  {
   "cell_type": "code",
   "execution_count": 36,
   "id": "2fedb605-aee2-4c75-aaa7-968d4cf1910a",
   "metadata": {},
   "outputs": [
    {
     "name": "stdout",
     "output_type": "stream",
     "text": [
      "[['2024 F1 World Championship', 'Mercedes AMG Petronas F1 Team', '', '', '', '2 - 12% win rate', '6', '166', ''], ['2023 F1 World Championship', 'Mercedes AMG Petronas F1 Team', '', '', '', '0', '3', '234', ''], ['2022 F1 World Championship', 'Mercedes AMG Petronas F1 Team', '', '', '', '0', '6', '240', ''], ['2021 F1 World Championship', 'Mercedes AMG Petronas F1 Team', '', '', '', '8 - 37% win rate', '2', '387.5', ''], ['2020 F1 World Championship', 'Mercedes AMG Petronas F1 Team', '', '', '', '11 - 69% win rate', '1', '347', ''], ['2019 F1 World Championship', 'Mercedes AMG Petronas Motorsport', '', '', '', '11 - 53% win rate', '1', '413', ''], ['2018 F1 World Championship', 'Mercedes AMG Petronas Motorsport', '', '', '', '11 - 53% win rate', '1', '408', ''], ['2017 F1 World Championship', 'Mercedes AMG Petronas F1 Team', '', '', '', '9 - 45% win rate', '1', '363', ''], ['2016 F1 World Championship', 'Mercedes AMG Petronas F1 Team', '', '', '', '10 - 48% win rate', '2', '380', ''], ['2015 F1 World Championship', 'Mercedes AMG Petronas F1 Team', '', '', '', '10 - 53% win rate', '1', '381', ''], ['2014 F1 World Championship', 'Mercedes AMG Petronas F1 Team', '', '', '', '11 - 58% win rate', '1', '384', ''], ['2013 F1 World Championship', 'Mercedes AMG Petronas F1 Team', '', '', '', '1 - 6% win rate', '4', '189', ''], ['2012 F1 World Championship', 'Vodafone McLaren Mercedes', '', '', '', '4 - 20% win rate', '4', '190', ''], ['2011 F1 World Championship', 'Vodafone McLaren Mercedes', '', '', '', '3 - 16% win rate', '5', '227', ''], ['2010 F1 World Championship', 'Vodafone McLaren Mercedes', '', '', '', '3 - 16% win rate', '4', '240', ''], ['2009 F1 World Championship', 'Vodafone McLaren Mercedes', '', '', '', '2 - 12% win rate', '5', '49', ''], ['2008 F1 World Championship', 'Vodafone McLaren Mercedes', '', '', '', '5 - 28% win rate', '1', '98', ''], ['2007 F1 World Championship', 'Vodafone McLaren Mercedes', '', '', '', '4 - 24% win rate', '2', '109', ''], ['2006 GP2 Series', 'ART Grand Prix', '', '', '', '5 - 24% win rate', '1', '114', ''], ['2005 F3 Euroseries', 'ASM', '', '', '', '15 - 75% win rate', '1', '172', ''], ['2004 F3 Euroseries', 'Manor Motorsport', '', '', '', '1 - 5% win rate', '5', '68', '']]\n"
     ]
    }
   ],
   "source": [
    "print(rows)"
   ]
  },
  {
   "cell_type": "code",
   "execution_count": 34,
   "id": "860dd33b-46c1-446e-8e32-be181c1cc3b8",
   "metadata": {},
   "outputs": [
    {
     "name": "stdout",
     "output_type": "stream",
     "text": [
      "Data saved to C:\\Users\\srini\\Downloads\\lewishamilton.csv\n"
     ]
    }
   ],
   "source": [
    "import csv \n",
    "\n",
    "csv_file = r'C:\\Users\\srini\\Downloads\\lewishamilton.csv'  \n",
    "with open(csv_file, 'w', newline='', encoding='utf-8') as file:\n",
    "    writer = csv.writer(file)\n",
    "    \n",
    "    # Write the header if available\n",
    "    if 'headers' in locals():  # Check if 'headers' is defined\n",
    "        writer.writerow(headers)\n",
    "    \n",
    "    # Write the rows\n",
    "    writer.writerows(rows)\n",
    "\n",
    "print(f\"Data saved to {csv_file}\")"
   ]
  },
  {
   "cell_type": "code",
   "execution_count": null,
   "id": "6ada2e7f-982b-4b4f-8a40-8f34fd3d6a59",
   "metadata": {},
   "outputs": [],
   "source": []
  }
 ],
 "metadata": {
  "kernelspec": {
   "display_name": "Python 3 (ipykernel)",
   "language": "python",
   "name": "python3"
  },
  "language_info": {
   "codemirror_mode": {
    "name": "ipython",
    "version": 3
   },
   "file_extension": ".py",
   "mimetype": "text/x-python",
   "name": "python",
   "nbconvert_exporter": "python",
   "pygments_lexer": "ipython3",
   "version": "3.12.4"
  }
 },
 "nbformat": 4,
 "nbformat_minor": 5
}
